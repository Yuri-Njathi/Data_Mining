{
 "cells": [
  {
   "cell_type": "markdown",
   "metadata": {},
   "source": [
    "Michelangelo was asked how he could sculpt a work of art as masterful as his\n",
    "David, he is famously reported to have said, “It is easy. You just chip away the stone\n",
    "that doesn’t look like David.”"
   ]
  },
  {
   "cell_type": "markdown",
   "metadata": {},
   "source": [
    "In web scarping, throw away what you arent looking for in the content."
   ]
  },
  {
   "cell_type": "markdown",
   "metadata": {},
   "source": [
    "## Advanced HTML Parsing"
   ]
  },
  {
   "cell_type": "markdown",
   "metadata": {},
   "source": [
    "##### how to avoid advanced html parsing\n",
    "You dont always need a hammer.\n",
    "Assume your code looks like the one below : \n",
    "`bs.find_all('table')[4].find_all('tr')[2].find('td').find_all('div')[1].find('a')`\n",
    "\n",
    "If a system admin changes the website, your scraper will break.\n",
    "\n",
    "options :\n",
    "1. Look for a Print this page link or a mobile version of the website.\n",
    "2. Look for information hidden in a JavaScript file. You may need to examine the imported JS files.\n",
    "3. For titles the infomation may be available in the url of the page.\n",
    "4. Is the information unique to this site only, look for other sources.\n",
    "\n"
   ]
  },
  {
   "cell_type": "code",
   "execution_count": null,
   "metadata": {},
   "outputs": [],
   "source": []
  }
 ],
 "metadata": {
  "kernelspec": {
   "display_name": "Python 3",
   "language": "python",
   "name": "python3"
  },
  "language_info": {
   "codemirror_mode": {
    "name": "ipython",
    "version": 3
   },
   "file_extension": ".py",
   "mimetype": "text/x-python",
   "name": "python",
   "nbconvert_exporter": "python",
   "pygments_lexer": "ipython3",
   "version": "3.7.3"
  }
 },
 "nbformat": 4,
 "nbformat_minor": 2
}
