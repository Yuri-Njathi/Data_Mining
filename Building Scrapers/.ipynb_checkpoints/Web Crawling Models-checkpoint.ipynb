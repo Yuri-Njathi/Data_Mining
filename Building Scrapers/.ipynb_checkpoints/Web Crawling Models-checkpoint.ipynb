{
 "cells": [
  {
   "cell_type": "markdown",
   "metadata": {},
   "source": [
    "When scraping presents unique organisational challenges, one website's h1 tag contains a title of an article while another contains the web page title.\n",
    "\n",
    "You may be asked to scrape product prices from different websites, with the ultimate aim to be to compare product prices.\n",
    "\n",
    "Large scalable crawlers tend to fall into one of several patterns. Learning these patterns and and applicable situations to improve maintainability and robustness of the crawlers.\n",
    "\n",
    "We'll focus on web crawlers that collect a limited number of \"types\" of data from websites and store these data types as Python Objects that read and write from the database."
   ]
  }
 ],
 "metadata": {
  "kernelspec": {
   "display_name": "Python 3",
   "language": "python",
   "name": "python3"
  },
  "language_info": {
   "codemirror_mode": {
    "name": "ipython",
    "version": 3
   },
   "file_extension": ".py",
   "mimetype": "text/x-python",
   "name": "python",
   "nbconvert_exporter": "python",
   "pygments_lexer": "ipython3",
   "version": "3.7.3"
  }
 },
 "nbformat": 4,
 "nbformat_minor": 2
}
