{
 "cells": [
  {
   "cell_type": "markdown",
   "metadata": {},
   "source": [
    "Michelangelo was asked how he could sculpt a work of art as masterful as his\n",
    "David, he is famously reported to have said, “It is easy. You just chip away the stone\n",
    "that doesn’t look like David.”"
   ]
  },
  {
   "cell_type": "markdown",
   "metadata": {},
   "source": [
    "In web scarping, throw away what you arent looking for in the content."
   ]
  },
  {
   "cell_type": "markdown",
   "metadata": {},
   "source": [
    "## Advanced HTML Parsing"
   ]
  },
  {
   "cell_type": "markdown",
   "metadata": {},
   "source": [
    "##### how to avoid advanced html parsing\n",
    "You dont always need a hammer.\n",
    "Assume your code looks like the one below : \n",
    "`bs.find_all('table')[4].find_all('tr')[2].find('td').find_all('div')[1].find('a')`\n",
    "\n",
    "If a system admin changes the website, your scraper will break.\n",
    "\n",
    "options :\n",
    "1. Look for a Print this page link or a mobile version of the website.\n",
    "2. Look for information hidden in a JavaScript file. You may need to examine the imported JS files.\n",
    "3. For titles the infomation may be available in the url of the page.\n",
    "4. Is the information unique to this site only, look for other sources.\n",
    "\n",
    "First look for the alternatives."
   ]
  },
  {
   "cell_type": "markdown",
   "metadata": {},
   "source": [
    "##### Using BeautifulSoup\n",
    "Every website you enter has stylesheets(css).\n",
    "css relies on differentiation of html tags.\n",
    "For example :\n",
    "one\n",
    "`<span class=\"green\"></span>`\n",
    "another\n",
    "`<span class=\"red\"></span>`\n",
    "\n",
    "Web scrapers can use these two tags based on their class thus scrap red lines instead of green. css is plentiful on most modern sites."
   ]
  },
  {
   "cell_type": "markdown",
   "metadata": {},
   "source": [
    "#### web scraper for http://www.pythonscraping.com/pages/warandpeace.html\n",
    "                        on this page words spoken by characters in the story are in red while the names of charachters are in green.\n",
    "                        `<span class=\"red\">Heavens! what a virulent attack!</span> replied\n",
    "<span class=\"green\">the prince</span>, not in the least disconcerted\n",
    "by this reception.`"
   ]
  },
  {
   "cell_type": "code",
   "execution_count": 2,
   "metadata": {},
   "outputs": [],
   "source": [
    "#grab the page and create a bs4 object.\n",
    "from urllib.request import urlopen\n",
    "from bs4 import BeautifulSoup\n",
    "\n",
    "html = urlopen('http://www.pythonscraping.com/pages/warandpeace.html')\n",
    "bs = BeautifulSoup(html.read(),'html.parser')"
   ]
  },
  {
   "cell_type": "markdown",
   "metadata": {},
   "source": [
    "Using this BeautifulSoup object, you can use the find_all function to extract a\n",
    "Python list of proper nouns found by selecting only the text within <span\n",
    "class=\"green\"></span> tags ( find_all is an extremely flexible function you’ll be\n",
    "using a lot later in this book):"
   ]
  },
  {
   "cell_type": "code",
   "execution_count": 5,
   "metadata": {},
   "outputs": [
    {
     "name": "stdout",
     "output_type": "stream",
     "text": [
      "Anna\n",
      "Pavlovna Scherer\n",
      "Empress Marya\n",
      "Fedorovna\n",
      "Prince Vasili Kuragin\n",
      "Anna Pavlovna\n",
      "St. Petersburg\n",
      "the prince\n",
      "Anna Pavlovna\n",
      "Anna Pavlovna\n",
      "the prince\n",
      "the prince\n",
      "the prince\n",
      "Prince Vasili\n",
      "Anna Pavlovna\n",
      "Anna Pavlovna\n",
      "the prince\n",
      "Wintzingerode\n",
      "King of Prussia\n",
      "le Vicomte de Mortemart\n",
      "Montmorencys\n",
      "Rohans\n",
      "Abbe Morio\n",
      "the Emperor\n",
      "the prince\n",
      "Prince Vasili\n",
      "Dowager Empress Marya Fedorovna\n",
      "the baron\n",
      "Anna Pavlovna\n",
      "the Empress\n",
      "the Empress\n",
      "Anna Pavlovna's\n",
      "Her Majesty\n",
      "Baron\n",
      "Funke\n",
      "The prince\n",
      "Anna\n",
      "Pavlovna\n",
      "the Empress\n",
      "The prince\n",
      "Anatole\n",
      "the prince\n",
      "The prince\n",
      "Anna\n",
      "Pavlovna\n",
      "Anna Pavlovna\n"
     ]
    }
   ],
   "source": [
    "namelist = bs.findAll('span',{'class':'green'})\n",
    "for name in namelist: \n",
    "    print(name.get_text()) #get_text() separates the content from the tags.\n",
    "#it lists all proper nouns found by selecting only the text within <span\n",
    "#`class=\"green\"></span> \n",
    "\n",
    "#syntax : bs.findAll(tagName,tagAttributes)"
   ]
  },
  {
   "cell_type": "markdown",
   "metadata": {},
   "source": [
    ".get_text() strips all tags from the document you are working\n",
    "with and returns a Unicode string containing the text only. For\n",
    "example, if you are working with a large block of text that contains\n",
    "many hyperlinks, paragraphs, and other tags, all those will be stripped away, and you’ll be left with a tagless block of text.\n",
    "Keep in mind that it’s much easier to find what you’re looking for\n",
    "in a BeautifulSoup object than in a block of text. Calling .get_text() should always be the last thing you do, immedi‐\n",
    "ately before you print, store, or manipulate your final data. In\n",
    "general, you should try to preserve the tag structure of a document\n",
    "as long as possible."
   ]
  },
  {
   "cell_type": "markdown",
   "metadata": {},
   "source": [
    "#### find() and find_all() with bs4.\n",
    "find_all(tag, attributes, recursive, text, limit, keywords)\n",
    "\n",
    "find(tag, attributes, recursive, text, keywords)\n",
    "\n",
    "95% of the time you'll only use the first two arguments.\n",
    "\n",
    "Let's explore all the arguments:\n",
    "\n",
    "1) Below returns all header tags in a document.\n",
    ".find_all([\"h1\",\"h2\",\"h3\",\"h4\",\"h5\",\"h6\"])\n",
    "\n",
    "2) Attributes argument takes a Python dict of attributes and matches tags that contain any one of those attributes. For example:\n",
    "the below function would return both the green and red span tags\n",
    "\n"
   ]
  },
  {
   "cell_type": "code",
   "execution_count": 9,
   "metadata": {},
   "outputs": [
    {
     "name": "stdout",
     "output_type": "stream",
     "text": [
      "Well, Prince, so Genoa and Lucca are now just family estates of the\n",
      "Buonapartes. But I warn you, if you don't tell me that this means war,\n",
      "if you still try to defend the infamies and horrors perpetrated by\n",
      "that Antichrist- I really believe he is Antichrist- I will have\n",
      "nothing more to do with you and you are no longer my friend, no longer\n",
      "my 'faithful slave,' as you call yourself! But how do you do? I see\n",
      "I have frightened you- sit down and tell me all the news.\n",
      "Anna\n",
      "Pavlovna Scherer\n",
      "Empress Marya\n",
      "Fedorovna\n",
      "Prince Vasili Kuragin\n",
      "Anna Pavlovna\n",
      "St. Petersburg\n",
      "If you have nothing better to do, Count [or Prince], and if the\n",
      "prospect of spending an evening with a poor invalid is not too\n",
      "terrible, I shall be very charmed to see you tonight between 7 and 10-\n",
      "Annette Scherer.\n",
      "Heavens! what a virulent attack!\n",
      "the prince\n",
      "Anna Pavlovna\n",
      "First of all, dear friend, tell me how you are. Set your friend's\n",
      "mind at rest,\n",
      "Can one be well while suffering morally? Can one be calm in times\n",
      "like these if one has any feeling?\n",
      "Anna Pavlovna\n",
      "You are\n",
      "staying the whole evening, I hope?\n",
      "And the fete at the English ambassador's? Today is Wednesday. I\n",
      "must put in an appearance there,\n",
      "the prince\n",
      "My daughter is\n",
      "coming for me to take me there.\n",
      "I thought today's fete had been canceled. I confess all these\n",
      "festivities and fireworks are becoming wearisome.\n",
      "If they had known that you wished it, the entertainment would\n",
      "have been put off,\n",
      "the prince\n",
      "Don't tease! Well, and what has been decided about Novosiltsev's\n",
      "dispatch? You know everything.\n",
      "What can one say about it?\n",
      "the prince\n",
      "What has been decided? They have decided that\n",
      "Buonaparte has burnt his boats, and I believe that we are ready to\n",
      "burn ours.\n",
      "Prince Vasili\n",
      "Anna Pavlovna\n",
      "Anna Pavlovna\n",
      "Oh, don't speak to me of Austria. Perhaps I don't understand\n",
      "things, but Austria never has wished, and does not wish, for war.\n",
      "She is betraying us! Russia alone must save Europe. Our gracious\n",
      "sovereign recognizes his high vocation and will be true to it. That is\n",
      "the one thing I have faith in! Our good and wonderful sovereign has to\n",
      "perform the noblest role on earth, and he is so virtuous and noble\n",
      "that God will not forsake him. He will fulfill his vocation and\n",
      "crush the hydra of revolution, which has become more terrible than\n",
      "ever in the person of this murderer and villain! We alone must\n",
      "avenge the blood of the just one.... Whom, I ask you, can we rely\n",
      "on?... England with her commercial spirit will not and cannot\n",
      "understand the Emperor Alexander's loftiness of soul. She has\n",
      "refused to evacuate Malta. She wanted to find, and still seeks, some\n",
      "secret motive in our actions. What answer did Novosiltsev get? None.\n",
      "The English have not understood and cannot understand the\n",
      "self-abnegation of our Emperor who wants nothing for himself, but only\n",
      "desires the good of mankind. And what have they promised? Nothing! And\n",
      "what little they have promised they will not perform! Prussia has\n",
      "always declared that Buonaparte is invincible, and that all Europe\n",
      "is powerless before him.... And I don't believe a word that Hardenburg\n",
      "says, or Haugwitz either. This famous Prussian neutrality is just a\n",
      "trap. I have faith only in God and the lofty destiny of our adored\n",
      "monarch. He will save Europe!\n",
      "I think,\n",
      "the prince\n",
      "that if you had been\n",
      "sent instead of our dear Wintzingerode you would have captured the\n",
      "King of Prussia's consent by assault. You are so eloquent. Will you\n",
      "give me a cup of tea?\n",
      "Wintzingerode\n",
      "King of Prussia\n",
      "In a moment. A propos,\n",
      "I am\n",
      "expecting two very interesting men tonight, le Vicomte de Mortemart,\n",
      "who is connected with the Montmorencys through the Rohans, one of\n",
      "the best French families. He is one of the genuine emigres, the good\n",
      "ones. And also the Abbe Morio. Do you know that profound thinker? He\n",
      "has been received by the Emperor. Had you heard?\n",
      "le Vicomte de Mortemart\n",
      "Montmorencys\n",
      "Rohans\n",
      "Abbe Morio\n",
      "the Emperor\n",
      "I shall be delighted to meet them,\n",
      "the prince\n",
      "But tell me,\n",
      "is it true that the Dowager Empress wants Baron Funke\n",
      "to be appointed first secretary at Vienna? The baron by all accounts\n",
      "is a poor creature.\n",
      "Prince Vasili\n",
      "Dowager Empress Marya Fedorovna\n",
      "the baron\n",
      "Anna Pavlovna\n",
      "the Empress\n",
      "Baron Funke has been recommended to the Dowager Empress by her\n",
      "sister,\n",
      "the Empress\n",
      "Anna Pavlovna's\n",
      "Her Majesty\n",
      "Baron\n",
      "Funke\n",
      "The prince\n",
      "Anna\n",
      "Pavlovna\n",
      "the Empress\n",
      "Now about your family. Do you know that since your daughter came\n",
      "out everyone has been enraptured by her? They say she is amazingly\n",
      "beautiful.\n",
      "The prince\n",
      "I often think,\n",
      "I often think how unfairly sometimes the\n",
      "joys of life are distributed. Why has fate given you two such splendid\n",
      "children? I don't speak of Anatole, your youngest. I don't like\n",
      "him,\n",
      "Anatole\n",
      "Two such charming children. And really you appreciate\n",
      "them less than anyone, and so you don't deserve to have them.\n",
      "I can't help it,\n",
      "the prince\n",
      "Lavater would have said I\n",
      "lack the bump of paternity.\n",
      "Don't joke; I mean to have a serious talk with you. Do you know I\n",
      "am dissatisfied with your younger son? Between ourselves\n",
      "he was mentioned at Her\n",
      "Majesty's and you were pitied....\n",
      "The prince\n",
      "What would you have me do?\n",
      "You know I did all\n",
      "a father could for their education, and they have both turned out\n",
      "fools. Hippolyte is at least a quiet fool, but Anatole is an active\n",
      "one. That is the only difference between them.\n",
      "And why are children born to such men as you? If you were not a\n",
      "father there would be nothing I could reproach you with,\n",
      "Anna\n",
      "Pavlovna\n",
      "I am your faithful slave and to you alone I can confess that my\n",
      "children are the bane of my life. It is the cross I have to bear. That\n",
      "is how I explain it to myself. It can't be helped!\n",
      "Anna Pavlovna\n"
     ]
    }
   ],
   "source": [
    "#2 . #returns both.\n",
    "namelist = bs.findAll('span',{'class':('green','red')})\n",
    "for name in namelist: \n",
    "    print(name.get_text())"
   ]
  },
  {
   "cell_type": "markdown",
   "metadata": {},
   "source": [
    "3. The RECURSIVE argument is a boolean. How deeply into the document do you want to go? If recursive arg. is True find_all looks into children and children's children, if recursive arg. is false it will only look at top level tags in your document. By DEFAULT find_all works recursively is set TRUE.\n",
    "\n",
    "4. The TEXT argument is unusual in that it matches based on the text context of the tags rather than the properties themselves. For instance, if you want to find the number of times \"the prince\" is surrounded by tags you could do as below:\n"
   ]
  },
  {
   "cell_type": "code",
   "execution_count": 10,
   "metadata": {},
   "outputs": [
    {
     "name": "stdout",
     "output_type": "stream",
     "text": [
      "7\n"
     ]
    }
   ],
   "source": [
    "nameList = bs.find_all(text='the prince')\n",
    "print(len(nameList))\n",
    "\n",
    "#he's referrenced 7 times with tags."
   ]
  },
  {
   "cell_type": "markdown",
   "metadata": {},
   "source": [
    "5. The LIMIT arg. is used only in the find_all method,find is a find_all with a limit of 1. Therefore one might set this if interested only in retrieving the first x items from the page. Be aware however that this gives you the first terms on the page in the order they occur. \n",
    "\n",
    "6. The KEYWORD atg. allows you to select tags that contain a particular attribute or set of attributes. For example, \n",
    "\n",
    "\n"
   ]
  },
  {
   "cell_type": "code",
   "execution_count": 19,
   "metadata": {},
   "outputs": [
    {
     "name": "stdout",
     "output_type": "stream",
     "text": [
      "[]\n",
      "None\n"
     ]
    }
   ],
   "source": [
    "title = bs.find_all(id=\"title\",class_=\"text\")\n",
    "print(title)\n",
    "\n",
    "#returns first tag with the word text in the class.\n",
    "\n",
    "title = bs.find(id=\"title\")\n",
    "print(title)"
   ]
  },
  {
   "cell_type": "markdown",
   "metadata": {},
   "source": [
    "### Keyword arguments and class.\n",
    "The keyword arg. can be helpful sometimes but technically redundant most times. Its function is easy to replace using a regular_express or lambda express(to be discussed later). \n",
    "\n",
    "For example :\n",
    "the below statements are the same :\n",
    "`bs.find_all(id='text')\n",
    " bs.find_all('', {'id':'text'})` \n",
    " You might occasionally run into problems using keyword, most notably when searching for elements by class attribute because class is a protected keyword in Python.\n",
    " Class is a reserved word.\n",
    " Thus when using class write it as class_ .\n",
    " \n",
    " keyword arg allow one to add and filter.\n",
    " "
   ]
  },
  {
   "cell_type": "markdown",
   "metadata": {},
   "source": [
    "#### Other BeautifulSoup Objects.\n",
    "BeautifulSoup Objects - Instances seen in previous code examples.\n",
    "\n",
    "Tag Objects - Retrieved in lists or retrieved individually by calling find and find_all on a BeautifulSoup object or drilling down, as follows:\n",
    "    bs.div.h1\n",
    "\n",
    "NavigableString objects - Used to represent\n",
    "\n",
    "Comment object - Used to find HTML comments tags.\n",
    "\n",
    "These 4 are the most common bs4 objects.\n",
    "\n"
   ]
  },
  {
   "cell_type": "markdown",
   "metadata": {},
   "source": [
    "### Navigating Trees.\n",
    "\n",
    "The find_all function is responsible for finding tags based on their name and attributes. But what if you need to find a TAG BASED ON ITS FUNCTION? That's where tree navigation comes in handy. \n",
    "\n",
    "In the first chapter you looked at navigating a bs4 tree in a single direction : \n",
    "    bs.tag.subTag.anotherSubTag\n",
    "Now lets look at navigating up, across and diagonally through html trees. You'll use our highly questionable online shopping site at http://www.pythonscraping.com/pages/page3.html as an example page for scraping.\n",
    "The HTML for this page, mapped out as a tree (with some tags omitted for brevity),\n",
    "looks like this:\n",
    "• HTML\n",
    "— body\n",
    "\n",
    "    — div.wrapper\n",
    "        — h1\n",
    "        \n",
    "        — div.content\n",
    "        \n",
    "        — table#giftList\n",
    "        \n",
    "            — tr\n",
    "                — th\n",
    "                — th\n",
    "                — th\n",
    "                — th\n",
    "            — tr.gift#gift1\n",
    "                — td\n",
    "                — td\n",
    "                    — span.excitingNote\n",
    "                — td\n",
    "                — td\n",
    "                    — img\n",
    "            — ...table rows continue...\n",
    "        — div.footer\n",
    "        \n",
    "You will use this same HTML structure as an example in the next few sections"
   ]
  },
  {
   "cell_type": "markdown",
   "metadata": {},
   "source": [
    "### Dealing with children and other descendants.\n",
    "\n",
    "How to select children.\n",
    "\n",
    "in bs4 library, there is a distinction between children and descendants, much like a human family tree. children are one tag below parent tags, descendants can be at any level in the tree below a parent. For example, the tr tags are children of the table tag whereas tr, th, td, img and span are all descendants of the table tag.\n",
    "\n",
    "All children are descendants of the table tag. All children are descendants but not all descendants are children.\n",
    "\n",
    "bs4 functions always deal with the descendants of the current tag selected. For instance, bs,body.h1 selects the first h1 tag that is a descendant of the body tag. It will not find tags located outside the body.if you want to find all descendants that are children use the .children tag:"
   ]
  },
  {
   "cell_type": "code",
   "execution_count": 2,
   "metadata": {},
   "outputs": [
    {
     "ename": "AttributeError",
     "evalue": "'NoneType' object has no attribute 'children'",
     "output_type": "error",
     "traceback": [
      "\u001b[0;31m--------------------------------------------------------------------------\u001b[0m",
      "\u001b[0;31mAttributeError\u001b[0m                           Traceback (most recent call last)",
      "\u001b[0;32m<ipython-input-2-b65d872dd5b7>\u001b[0m in \u001b[0;36m<module>\u001b[0;34m\u001b[0m\n\u001b[1;32m      6\u001b[0m \u001b[0mbs\u001b[0m \u001b[0;34m=\u001b[0m \u001b[0mBeautifulSoup\u001b[0m\u001b[0;34m(\u001b[0m\u001b[0mhtml\u001b[0m\u001b[0;34m,\u001b[0m\u001b[0;34m'html.parser'\u001b[0m\u001b[0;34m)\u001b[0m \u001b[0;31m#page and parser\u001b[0m\u001b[0;34m\u001b[0m\u001b[0;34m\u001b[0m\u001b[0m\n\u001b[1;32m      7\u001b[0m \u001b[0;34m\u001b[0m\u001b[0m\n\u001b[0;32m----> 8\u001b[0;31m \u001b[0;32mfor\u001b[0m \u001b[0mchild\u001b[0m \u001b[0;32min\u001b[0m \u001b[0mbs\u001b[0m\u001b[0;34m.\u001b[0m\u001b[0mfind\u001b[0m\u001b[0;34m(\u001b[0m\u001b[0;34m'table'\u001b[0m\u001b[0;34m,\u001b[0m\u001b[0;34m{\u001b[0m\u001b[0;34m'id'\u001b[0m\u001b[0;34m:\u001b[0m\u001b[0;34m'giftlist'\u001b[0m\u001b[0;34m}\u001b[0m\u001b[0;34m)\u001b[0m\u001b[0;34m.\u001b[0m\u001b[0mchildren\u001b[0m\u001b[0;34m:\u001b[0m\u001b[0;34m\u001b[0m\u001b[0;34m\u001b[0m\u001b[0m\n\u001b[0m\u001b[1;32m      9\u001b[0m     \u001b[0;31m#table tag with id giftlist\u001b[0m\u001b[0;34m\u001b[0m\u001b[0;34m\u001b[0m\u001b[0;34m\u001b[0m\u001b[0m\n\u001b[1;32m     10\u001b[0m     \u001b[0mprint\u001b[0m\u001b[0;34m(\u001b[0m\u001b[0mchild\u001b[0m\u001b[0;34m)\u001b[0m\u001b[0;34m\u001b[0m\u001b[0;34m\u001b[0m\u001b[0m\n",
      "\u001b[0;31mAttributeError\u001b[0m: 'NoneType' object has no attribute 'children'"
     ]
    }
   ],
   "source": [
    "from urllib.request import urlopen\n",
    "from bs4 import BeautifulSoup\n",
    "\n",
    "html = urlopen(\"http://www.pythonscraping.com/pages/page3.html\")\n",
    "\n",
    "bs = BeautifulSoup(html,'html.parser') #page and parser\n",
    "\n",
    "for child in bs.find('table',{'id':'giftList'}).children: \n",
    "    #table tag with id giftlist\n",
    "    print(child)\n",
    "from urllib.request import urlopen\n",
    "from bs4 import BeautifulSoup\n",
    "html = urlopen('http://www.pythonscraping.com/pages/page3.html')\n",
    "bs = BeautifulSoup(html, 'html.parser')\n",
    "for child in bs.find('table',{'id':'giftList'}).children:\n",
    "print(child)\n",
    "# :D :D :D the site doesnt work, so we'll have to either abandon this or move\n",
    "#forward with it.\n",
    "#Lets try "
   ]
  },
  {
   "cell_type": "code",
   "execution_count": null,
   "metadata": {},
   "outputs": [],
   "source": []
  }
 ],
 "metadata": {
  "kernelspec": {
   "display_name": "Python 3",
   "language": "python",
   "name": "python3"
  },
  "language_info": {
   "codemirror_mode": {
    "name": "ipython",
    "version": 3
   },
   "file_extension": ".py",
   "mimetype": "text/x-python",
   "name": "python",
   "nbconvert_exporter": "python",
   "pygments_lexer": "ipython3",
   "version": "3.7.3"
  }
 },
 "nbformat": 4,
 "nbformat_minor": 2
}
