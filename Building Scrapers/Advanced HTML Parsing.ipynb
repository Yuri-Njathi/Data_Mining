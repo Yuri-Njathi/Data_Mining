{
 "cells": [
  {
   "cell_type": "markdown",
   "metadata": {},
   "source": [
    "Michelangelo was asked how he could sculpt a work of art as masterful as his\n",
    "David, he is famously reported to have said, “It is easy. You just chip away the stone\n",
    "that doesn’t look like David.”"
   ]
  },
  {
   "cell_type": "markdown",
   "metadata": {},
   "source": [
    "In web scarping, throw away what you arent looking for in the content."
   ]
  },
  {
   "cell_type": "markdown",
   "metadata": {},
   "source": [
    "## Advanced HTML Parsing"
   ]
  },
  {
   "cell_type": "markdown",
   "metadata": {},
   "source": [
    "##### how to avoid advanced html parsing\n",
    "You dont always need a hammer.\n",
    "Assume your code looks like the one below : \n",
    "`bs.find_all('table')[4].find_all('tr')[2].find('td').find_all('div')[1].find('a')`\n",
    "\n",
    "If a system admin changes the website, your scraper will break.\n",
    "\n",
    "options :\n",
    "1. Look for a Print this page link or a mobile version of the website.\n",
    "2. Look for information hidden in a JavaScript file. You may need to examine the imported JS files.\n",
    "3. For titles the infomation may be available in the url of the page.\n",
    "4. Is the information unique to this site only, look for other sources.\n",
    "\n",
    "First look for the alternatives."
   ]
  },
  {
   "cell_type": "markdown",
   "metadata": {},
   "source": [
    "##### Using BeautifulSoup\n",
    "Every website you enter has stylesheets(css).\n",
    "css relies on differentiation of html tags.\n",
    "For example :\n",
    "one\n",
    "`<span class=\"green\"></span>`\n",
    "another\n",
    "`<span class=\"red\"></span>`\n",
    "\n",
    "Web scrapers can use these two tags based on their class thus scrap red lines instead of green. css is plentiful on most modern sites."
   ]
  },
  {
   "cell_type": "markdown",
   "metadata": {},
   "source": [
    "#### web scraper for http://www.pythonscraping.com/pages/warandpeace.html\n",
    "                        on this page words spoken by characters in the story are in red while the names of charachters are in green.\n",
    "                        `<span class=\"red\">Heavens! what a virulent attack!</span> replied\n",
    "<span class=\"green\">the prince</span>, not in the least disconcerted\n",
    "by this reception.`"
   ]
  },
  {
   "cell_type": "code",
   "execution_count": null,
   "metadata": {},
   "outputs": [],
   "source": [
    "#grab the page and create a bs4 object.\n",
    "from urllib.request"
   ]
  }
 ],
 "metadata": {
  "kernelspec": {
   "display_name": "Python 3",
   "language": "python",
   "name": "python3"
  },
  "language_info": {
   "codemirror_mode": {
    "name": "ipython",
    "version": 3
   },
   "file_extension": ".py",
   "mimetype": "text/x-python",
   "name": "python",
   "nbconvert_exporter": "python",
   "pygments_lexer": "ipython3",
   "version": "3.7.3"
  }
 },
 "nbformat": 4,
 "nbformat_minor": 2
}
