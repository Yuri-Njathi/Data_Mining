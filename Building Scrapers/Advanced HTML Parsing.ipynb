{
 "cells": [
  {
   "cell_type": "markdown",
   "metadata": {},
   "source": [
    "Michelangelo was asked how he could sculpt a work of art as masterful as his\n",
    "David, he is famously reported to have said, “It is easy. You just chip away the stone\n",
    "that doesn’t look like David.”"
   ]
  },
  {
   "cell_type": "markdown",
   "metadata": {},
   "source": [
    "In web scarping, throw away what you arent looking for in the content."
   ]
  },
  {
   "cell_type": "markdown",
   "metadata": {},
   "source": [
    "## Advanced HTML Parsing"
   ]
  },
  {
   "cell_type": "markdown",
   "metadata": {},
   "source": [
    "##### how to avoid advanced html parsing\n",
    "You dont always need a hammer.\n",
    "Assume your code looks like the one below : \n",
    "`bs.find_all('table')[4].find_all('tr')[2].find('td').find_all('div')[1].find('a')`\n",
    "\n",
    "If a system admin changes the website, your scraper will break.\n",
    "\n",
    "options :\n",
    "1. Look for a Print this page link or a mobile version of the website.\n",
    "2. Look for information hidden in a JavaScript file. You may need to examine the imported JS files.\n",
    "3. For titles the infomation may be available in the url of the page.\n",
    "4. Is the information unique to this site only, look for other sources.\n",
    "\n",
    "First look for the alternatives."
   ]
  },
  {
   "cell_type": "markdown",
   "metadata": {},
   "source": [
    "##### Using BeautifulSoup\n",
    "Every website you enter has stylesheets(css).\n",
    "css relies on differentiation of html tags.\n",
    "For example :\n",
    "one\n",
    "`<span class=\"green\"></span>`\n",
    "another\n",
    "`<span class=\"red\"></span>`\n",
    "\n",
    "Web scrapers can use these two tags based on their class thus scrap red lines instead of green. css is plentiful on most modern sites."
   ]
  },
  {
   "cell_type": "markdown",
   "metadata": {},
   "source": [
    "#### web scraper for http://www.pythonscraping.com/pages/warandpeace.html\n",
    "                        on this page words spoken by characters in the story are in red while the names of charachters are in green.\n",
    "                        `<span class=\"red\">Heavens! what a virulent attack!</span> replied\n",
    "<span class=\"green\">the prince</span>, not in the least disconcerted\n",
    "by this reception.`"
   ]
  },
  {
   "cell_type": "code",
   "execution_count": 1,
   "metadata": {},
   "outputs": [],
   "source": [
    "#grab the page and create a bs4 object.\n",
    "from urllib.request import urlopen\n",
    "from bs4 import BeautifulSoup\n",
    "\n",
    "html = urlopen('http://www.pythonscraping.com/pages/warandpeace.html')\n",
    "bs = BeautifulSoup(html.read(),'html.parser')"
   ]
  },
  {
   "cell_type": "markdown",
   "metadata": {},
   "source": [
    "Using this BeautifulSoup object, you can use the find_all function to extract a\n",
    "Python list of proper nouns found by selecting only the text within <span\n",
    "class=\"green\"></span> tags ( find_all is an extremely flexible function you’ll be\n",
    "using a lot later in this book):"
   ]
  },
  {
   "cell_type": "code",
   "execution_count": 5,
   "metadata": {},
   "outputs": [
    {
     "name": "stdout",
     "output_type": "stream",
     "text": [
      "Anna\n",
      "Pavlovna Scherer\n",
      "Empress Marya\n",
      "Fedorovna\n",
      "Prince Vasili Kuragin\n",
      "Anna Pavlovna\n",
      "St. Petersburg\n",
      "the prince\n",
      "Anna Pavlovna\n",
      "Anna Pavlovna\n",
      "the prince\n",
      "the prince\n",
      "the prince\n",
      "Prince Vasili\n",
      "Anna Pavlovna\n",
      "Anna Pavlovna\n",
      "the prince\n",
      "Wintzingerode\n",
      "King of Prussia\n",
      "le Vicomte de Mortemart\n",
      "Montmorencys\n",
      "Rohans\n",
      "Abbe Morio\n",
      "the Emperor\n",
      "the prince\n",
      "Prince Vasili\n",
      "Dowager Empress Marya Fedorovna\n",
      "the baron\n",
      "Anna Pavlovna\n",
      "the Empress\n",
      "the Empress\n",
      "Anna Pavlovna's\n",
      "Her Majesty\n",
      "Baron\n",
      "Funke\n",
      "The prince\n",
      "Anna\n",
      "Pavlovna\n",
      "the Empress\n",
      "The prince\n",
      "Anatole\n",
      "the prince\n",
      "The prince\n",
      "Anna\n",
      "Pavlovna\n",
      "Anna Pavlovna\n"
     ]
    }
   ],
   "source": [
    "namelist = bs.findAll('span',{'class':'green'})\n",
    "for name in namelist: \n",
    "    print(name.get_text()) #get_text() separates the content from the tags.\n",
    "#it lists all proper nouns found by selecting only the text within <span\n",
    "#`class=\"green\"></span> \n",
    "\n",
    "#syntax : bs.findAll(tagName,tagAttributes)"
   ]
  },
  {
   "cell_type": "markdown",
   "metadata": {},
   "source": [
    ".get_text() strips all tags from the document you are working\n",
    "with and returns a Unicode string containing the text only. For\n",
    "example, if you are working with a large block of text that contains\n",
    "many hyperlinks, paragraphs, and other tags, all those will be stripped away, and you’ll be left with a tagless block of text.\n",
    "Keep in mind that it’s much easier to find what you’re looking for\n",
    "in a BeautifulSoup object than in a block of text. Calling .get_text() should always be the last thing you do, immedi‐\n",
    "ately before you print, store, or manipulate your final data. In\n",
    "general, you should try to preserve the tag structure of a document\n",
    "as long as possible."
   ]
  },
  {
   "cell_type": "markdown",
   "metadata": {},
   "source": [
    "#### find() and find_all() with bs4.\n",
    "find_all(tag, attributes, recursive, text, limit, keywords)\n",
    "\n",
    "find(tag, attributes, recursive, text, keywords)\n",
    "\n",
    "95% of the time you'll only use the first two arguments.\n",
    "\n",
    "Let's explore all"
   ]
  },
  {
   "cell_type": "code",
   "execution_count": null,
   "metadata": {},
   "outputs": [],
   "source": []
  }
 ],
 "metadata": {
  "kernelspec": {
   "display_name": "Python 3",
   "language": "python",
   "name": "python3"
  },
  "language_info": {
   "codemirror_mode": {
    "name": "ipython",
    "version": 3
   },
   "file_extension": ".py",
   "mimetype": "text/x-python",
   "name": "python",
   "nbconvert_exporter": "python",
   "pygments_lexer": "ipython3",
   "version": "3.7.3"
  }
 },
 "nbformat": 4,
 "nbformat_minor": 2
}
