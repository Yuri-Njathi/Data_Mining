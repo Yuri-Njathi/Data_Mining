{
 "cells": [
  {
   "cell_type": "markdown",
   "metadata": {},
   "source": [
    "When scraping presents unique organisational challenges, one website's h1 tag contains a title of an article while another contains the web page title.\n",
    "\n",
    "You may be asked to scrape product prices from different websites, with the ultimate aim to be to compare product prices.\n",
    "\n",
    "Large scalable crawlers tend to fall into one of several patterns. Learning these patterns and and applicable situations to improve maintainability and robustness of the crawlers.\n",
    "\n",
    "We'll focus on web crawlers that collect a limited number of \"types\" of data from websites and store these data types as Python Objects that read and write from the database."
   ]
  },
  {
   "cell_type": "markdown",
   "metadata": {},
   "source": [
    "### Planning and Defining Objects.\n",
    "It is easy to fall into the trap of trying to track all/almost all fields ,related to a product, that appear on multiple sites.This results in messy and hard to read datasets. The paradox of choice.\n",
    "\n",
    "One good scalable approach, when deciding which data to collect, is to ignore the websites and ask yourself, 'what do I need?' For example, when you want to compare product prices among multiple stores and track those product prices over time. Thus you'll need just enough information to uniquely identify the product (across the multiple stores) and that's it:\n",
    "- Product title\n",
    "- Manufacturer\n",
    "- Product ID no. (if available/relavant)\n",
    "\n",
    "The more detailed information e.g. price ,reviews etc would be specific to a particular store and thus stored separately.\n",
    "\n",
    "Ask yourself :\n",
    "- Will this info help with project goals? Is it nice to have or is it essential?\n",
    "\n",
    "- If it may help in future, how difficult will it be to go back and collect the data at a later time ?\n",
    "\n",
    "- Does it make logical sense to store the data within a particular object?\n",
    "\n",
    "If so, \n",
    "- is this data sparse or dense i.e. available on each site or every product e.g. colour\n",
    "\n",
    "- how large is the data?\n",
    "\n",
    "- If large data, will i need to contantly retrieve it or only on occasion?\n",
    "\n",
    "- How variable is the type of data?\n",
    "\n"
   ]
  },
  {
   "cell_type": "code",
   "execution_count": null,
   "metadata": {},
   "outputs": [],
   "source": []
  }
 ],
 "metadata": {
  "kernelspec": {
   "display_name": "Python 3",
   "language": "python",
   "name": "python3"
  },
  "language_info": {
   "codemirror_mode": {
    "name": "ipython",
    "version": 3
   },
   "file_extension": ".py",
   "mimetype": "text/x-python",
   "name": "python",
   "nbconvert_exporter": "python",
   "pygments_lexer": "ipython3",
   "version": "3.7.3"
  }
 },
 "nbformat": 4,
 "nbformat_minor": 2
}
