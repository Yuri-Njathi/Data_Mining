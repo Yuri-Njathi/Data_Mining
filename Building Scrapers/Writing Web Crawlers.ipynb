{
 "cells": [
  {
   "cell_type": "markdown",
   "metadata": {},
   "source": [
    "#### Real World Applications.\n",
    "Multiple pages and multiple sites.\n",
    "Web crawlers crawl across the web. At Their core is an element called recursion. They must retrieve page contents for a URL, examine that page for another URL and retrieve that page ad infinitum.\n",
    "\n",
    "The scrapers used in the previous examples work great in situations where all the data you need is on a single page. With web crawlers, you must be extremely conscientious of how much bandwidth you are using and make every effort to determine whether there's a way to make the target server's load easier."
   ]
  },
  {
   "cell_type": "markdown",
   "metadata": {},
   "source": [
    "#### Transversing a Single Domain.\n",
    "There these games called Six Degrees of Wikipedia and Six Degrees of Kevin Bacon. The object of the games is to link tow unlikely subjects by a chain containing no more than six total including the two original subjects:\n",
    "For example, Eric Idle appeared in Dudley Do-Right with Brendan Fraser, who\n",
    "appeared in The Air I Breathe with Kevin Bacon. 1 In this case, the chain from Eric Idle\n",
    "to Kevin Bacon is only three subjects long."
   ]
  },
  {
   "cell_type": "code",
   "execution_count": null,
   "metadata": {},
   "outputs": [],
   "source": []
  }
 ],
 "metadata": {
  "kernelspec": {
   "display_name": "Python 3",
   "language": "python",
   "name": "python3"
  },
  "language_info": {
   "codemirror_mode": {
    "name": "ipython",
    "version": 3
   },
   "file_extension": ".py",
   "mimetype": "text/x-python",
   "name": "python",
   "nbconvert_exporter": "python",
   "pygments_lexer": "ipython3",
   "version": "3.7.3"
  }
 },
 "nbformat": 4,
 "nbformat_minor": 2
}
